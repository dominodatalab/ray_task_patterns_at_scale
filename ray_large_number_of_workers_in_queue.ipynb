{
 "cells": [
  {
   "cell_type": "code",
   "execution_count": null,
   "id": "7b003483-38cf-4c40-88bd-1f55fde5a566",
   "metadata": {},
   "outputs": [],
   "source": [
    "! ray --version"
   ]
  },
  {
   "cell_type": "code",
   "execution_count": null,
   "id": "e9b7514f-d17d-453b-b6bc-d27c0a3f4db9",
   "metadata": {},
   "outputs": [],
   "source": [
    "import ray\n",
    "import os\n",
    "\n",
    "def initialize_ray():\n",
    "    ray.shutdown()\n",
    "    \n",
    "    if ray.is_initialized() == False:\n",
    "       service_host = os.environ[\"RAY_HEAD_SERVICE_HOST\"]\n",
    "       service_port = os.environ[\"RAY_HEAD_SERVICE_PORT\"]\n",
    "       _temp_dir='/domino/datasets/local/{}/'.format(os.environ['DOMINO_PROJECT_NAME']) #set to a dataset\n",
    "       #ray.util.connect(f\"{service_host}:{service_port}\")\n",
    "       address=f\"ray://{service_host}:{service_port}\"\n",
    "       ray.init(address=address, _temp_dir=_temp_dir)"
   ]
  },
  {
   "cell_type": "code",
   "execution_count": null,
   "id": "cc6a3c35-fae2-41d8-b068-59c98e75f180",
   "metadata": {},
   "outputs": [],
   "source": [
    "#ray.nodes()"
   ]
  },
  {
   "cell_type": "code",
   "execution_count": null,
   "id": "d3b661bf-efb9-4297-8408-2fdd202c6374",
   "metadata": {},
   "outputs": [],
   "source": [
    "import ray\n",
    "import time\n",
    "\n",
    "#ray.init()\n",
    "initialize_ray()\n",
    "no_of_tasks = 200000\n",
    "sleep_time = 5\n",
    "\n",
    "@ray.remote\n",
    "def f(x):\n",
    "    time.sleep(sleep_time)\n",
    "    return x + x\n",
    "\n",
    "\n",
    "futures = [f.remote(i) for i in range(no_of_tasks)]\n",
    "\n",
    "# Optionally wait for completion\n",
    "results = ray.get(futures)\n",
    "print(\"Done:\", results[:no_of_tasks])"
   ]
  },
  {
   "attachments": {
    "5e098aa1-1876-497b-8f54-d34612e848f2.png": {
     "image/png": "[encoded data removed]"
    }
   },
   "cell_type": "markdown",
   "id": "dee850bb-451a-4610-8465-b51f7f8d4271",
   "metadata": {},
   "source": [
    "## Error message from Domino with the above program\n",
    "\n",
    "The program hangs with 10000 scheduled and 100000 waiting to be scheduled\n",
    "\n",
    "![image.png](attachment:5e098aa1-1876-497b-8f54-d34612e848f2.png)\n",
    "```\n",
    "/opt/conda/lib/python3.9/site-packages/ray/util/client/worker.py:614: UserWarning: More than 10MB of messages have been created to schedule tasks on the server. This can be slow on Ray Client due to communication overhead over the network. If you're running many fine-grained tasks, consider running them inside a single remote function. See the section on \"Too fine-grained tasks\" in the Ray Design Patterns document for more details: https://docs.google.com/document/d/167rnnDFIVRhHhK4mznEIemOtj63IOhtIPvSYaPgI4Fg/edit#heading=h.f7ins22n6nyl. If your functions frequently use large objects, consider storing the objects remotely with ray.put. An example of this is shown in the \"Closure capture of large / unserializable object\" section of the Ray Design Patterns document, available here: https://docs.google.com/document/d/167rnnDFIVRhHhK4mznEIemOtj63IOhtIPvSYaPgI4Fg/edit#heading=h.1afmymq455wu\n",
    "  warnings.warn(\n",
    "```\n"
   ]
  },
  {
   "cell_type": "markdown",
   "id": "a219a890-5097-4bf9-b317-3bc312545fdd",
   "metadata": {},
   "source": [
    "## Anti-pattern - Too many fine grained tasks\n",
    "```\n",
    "@ray.remote\n",
    "def double(number):\n",
    "    return number * 2\n",
    "\n",
    "numbers = list(range(10000))\n",
    "\n",
    "doubled_numbers = []\n",
    "for i in numbers:\n",
    "    doubled_numbers.append(ray.get(double.remote(i)))\n",
    "```\n",
    "\n",
    "## Fix - Use Batching\n",
    "\n",
    "```\n",
    "@ray.remote\n",
    "def double_list(list_of_numbers):\n",
    "    return [number * 2 for number in list_of_numbers]\n",
    "\n",
    "numbers = list(range(10000))\n",
    "doubled_list_refs = []\n",
    "BATCH_SIZE = 100\n",
    "for i in range(0, len(numbers), BATCH_SIZE):\n",
    "    batch = numbers[i : i + BATCH_SIZE]\n",
    "    doubled_list_refs.append(double_list.remote(batch))\n",
    "\n",
    "doubled_numbers = []\n",
    "\n",
    "for ref in doubled_list_refs:\n",
    "    doubled_numbers.extend(ray.get(ref))\n",
    "```"
   ]
  },
  {
   "cell_type": "markdown",
   "id": "0c873696-8c49-4900-83b2-2d649be8210c",
   "metadata": {},
   "source": [
    "### What is happening\n",
    "\n",
    "1. Ray Client Bottleneck\n",
    "You're likely using Ray Client (ray.init(address=\"...\")), not local Ray.\n",
    "\n",
    "Ray Client streams task metadata over the network, and this line:\n",
    "```\n",
    "UserWarning: More than 10MB of messages have been created to schedule tasks on the server...\n",
    "indicates you're overwhelming that control channel.\n",
    "This isn’t a memory issue, it’s a control-plane throughput problem over the Ray Client protocol.\n",
    "```\n",
    "\n",
    "2. Global Scheduling Queue Saturation\n",
    "The dashboard shows:\n",
    "\n",
    "10,000 scheduled, 10,000 waiting\n",
    "\n",
    "This means:\n",
    "\n",
    "10,000 tasks have been scheduled onto workers\n",
    "\n",
    "10,000 more are waiting in the GCS scheduler\n",
    "\n",
    "The rest are still in submission or backpressured inside the client driver\n",
    "\n",
    "3. **Task Flooding and Internal Limits**\n",
    "Ray has several hard limits:\n",
    "\n",
    "- `max_in_flight_requests`: limits how many pending submissions the client can buffer.\n",
    "\n",
    "- `max_calls_in_flight_per_worker`: limits how many calls per worker can be open.\n",
    "\n",
    "- Network gRPC queue sizes.\n",
    "\n",
    "**These limits exist to protect the system from task flood.**\n",
    "\n",
    "4. **Unbatched, Fine-Grained Tasks**\n",
    "Each f.remote(i) schedules a task with:\n",
    "\n",
    "Small payload (an int)\n",
    "\n",
    "High overhead (sleeping 5s, holding up a worker)\n",
    "\n",
    "No batching\n",
    "\n",
    "This results in:\n",
    "\n",
    "- Poor system utilization\n",
    "\n",
    "- Backlogged queue\n",
    "\n",
    "- High scheduler load\n",
    "\n",
    "- Control channel congestion\n",
    "\n",
    "5. **No Ray.get() or Ray.wait() Control**\n",
    "You're firing off 200,000 tasks and calling ray.get() only after. This creates a massive unbounded queue.\n",
    "\n",
    "\n",
    "\n",
    "```\n",
    "from tqdm import tqdm\n",
    "results = []\n",
    "batch_size = 1000\n",
    "for i in tqdm(range(0, no_of_tasks, batch_size)):\n",
    "    futures = [f.remote(j) for j in range(i, i + batch_size)]\n",
    "    results.extend(ray.get(futures))\n",
    "```"
   ]
  },
  {
   "cell_type": "markdown",
   "id": "8fdf7a66-6d77-4eb2-b516-a373f1ee2e64",
   "metadata": {},
   "source": [
    "### Fix Option A: Batch Submission\n",
    "Throttle and reuse:"
   ]
  },
  {
   "cell_type": "code",
   "execution_count": null,
   "id": "140cd7a9-2e6d-4469-b6b8-be09649a604d",
   "metadata": {},
   "outputs": [],
   "source": [
    "from tqdm import tqdm\n",
    "initialize_ray()\n",
    "results = []\n",
    "batch_size = 1000\n",
    "for i in tqdm(range(0, no_of_tasks, batch_size)):\n",
    "    futures = [f.remote(j) for j in range(i, i + batch_size)]\n",
    "    results.extend(ray.get(futures))"
   ]
  },
  {
   "cell_type": "markdown",
   "id": "aa42a06c-3430-44a4-8a62-827898fb0468",
   "metadata": {},
   "source": [
    "### Fix Option B: Use ray.wait()\n",
    "This code submits 200,000 Ray tasks while keeping at most 1,000 tasks in-flight at a time, using ray.wait() to manage backpressure and avoid overwhelming the system.\n"
   ]
  },
  {
   "cell_type": "code",
   "execution_count": null,
   "id": "5b9c6362-ebb5-4228-8645-09e092d2e595",
   "metadata": {},
   "outputs": [
    {
     "name": "stderr",
     "output_type": "stream",
     "text": [
      "/opt/conda/lib/python3.9/site-packages/ray/util/client/worker.py:614: UserWarning: More than 10MB of messages have been created to schedule tasks on the server. This can be slow on Ray Client due to communication overhead over the network. If you're running many fine-grained tasks, consider running them inside a single remote function. See the section on \"Too fine-grained tasks\" in the Ray Design Patterns document for more details: https://docs.google.com/document/d/167rnnDFIVRhHhK4mznEIemOtj63IOhtIPvSYaPgI4Fg/edit#heading=h.f7ins22n6nyl. If your functions frequently use large objects, consider storing the objects remotely with ray.put. An example of this is shown in the \"Closure capture of large / unserializable object\" section of the Ray Design Patterns document, available here: https://docs.google.com/document/d/167rnnDFIVRhHhK4mznEIemOtj63IOhtIPvSYaPgI4Fg/edit#heading=h.1afmymq455wu\n",
      "  warnings.warn(\n"
     ]
    }
   ],
   "source": [
    "import ray\n",
    "import time\n",
    "initialize_ray()\n",
    "sleep_time = 0.01\n",
    "@ray.remote\n",
    "def f(x):\n",
    "    time.sleep(sleep_time)\n",
    "    return x + x\n",
    "\n",
    "# Specifies that 200,000 tasks should be run, but only 1,000 should be active (submitted but not completed) at a time.\n",
    "no_of_tasks = 200000\n",
    "max_in_flight = 1000\n",
    "\n",
    "'''\n",
    "Next line submits the first 1,000 tasks immediately.\n",
    "These are stored in pending as ObjectRefs.\n",
    "'''\n",
    "pending = [f.remote(i) for i in range(max_in_flight)]\n",
    "\n",
    "#Initializes the results list to collect outputs.\n",
    "results = []\n",
    "\n",
    "# This for loop starts with i=1000 and ends with i=199999\n",
    "# It takes one task from pending and r\n",
    "for i in range(max_in_flight, no_of_tasks):\n",
    "    # ray.wait(pending, num_returns=1) waits for one task in pending to finish.\n",
    "    done, pending = ray.wait(pending, num_returns=1)\n",
    "    # done has 1 completed ref.\n",
    "    # pending now has 999 remaining (those still in-flight).\n",
    "    \n",
    "    # retrieves its result and adds it to results\n",
    "    results.extend(ray.get(done))\n",
    "    #f.remote(i) submits the next task and adds it to pending.\n",
    "    pending.append(f.remote(i))\n",
    "\n",
    "results.extend(ray.get(pending))\n",
    "# print(\"Done:\", results[:5])\n",
    "print(\"Done:\", results[:5])\n"
   ]
  },
  {
   "cell_type": "markdown",
   "id": "24e201f0-48cf-4d1d-9806-e68e3115e676",
   "metadata": {},
   "source": [
    "### Summary\n",
    "- Ray Client can't handle huge bulk submissions. It was not designed for this.\n",
    "\n",
    "- The dashboard reflects accurate queue state: you’re hitting system and network limits.\n",
    "\n",
    "- Switch to batching or throttled task submission, or restructure to use fewer long-lived tasks or actors.\n",
    "\n",
    "| Goal                         | Achieved by                                      |\n",
    "|:-----------------------------|:-------------------------------------------------|\n",
    "| Avoid overwhelming Ray       | Max 1,000 concurrent tasks using `ray.wait`      |\n",
    "| Backpressure handling        | `ray.wait(..., num_returns=1)`                   |\n",
    "| Controlled memory usage      | Bounded `pending` list                           |\n",
    "| Complete execution           | Final `ray.get(pending)`                         |\n"
   ]
  },
  {
   "cell_type": "code",
   "execution_count": null,
   "id": "bb0c4e2f-ef16-493e-bbdf-b0b7fd7c730e",
   "metadata": {},
   "outputs": [],
   "source": [
    "'''\n",
    "#Try this out to understand how i looks like\n",
    "no_of_tasks = 200000\n",
    "max_in_flight = 1000\n",
    "for i in range(max_in_flight, no_of_tasks):\n",
    "    print(i)\n",
    "'''    "
   ]
  },
  {
   "cell_type": "code",
   "execution_count": null,
   "id": "526f1773-0d2c-467a-9c62-51a7d172c022",
   "metadata": {},
   "outputs": [],
   "source": []
  }
 ],
 "metadata": {
  "kernelspec": {
   "display_name": "Python 3 (ipykernel)",
   "language": "python",
   "name": "python3"
  },
  "language_info": {
   "codemirror_mode": {
    "name": "ipython",
    "version": 3
   },
   "file_extension": ".py",
   "mimetype": "text/x-python",
   "name": "python",
   "nbconvert_exporter": "python",
   "pygments_lexer": "ipython3",
   "version": "3.9.18"
  }
 },
 "nbformat": 4,
 "nbformat_minor": 5
}
